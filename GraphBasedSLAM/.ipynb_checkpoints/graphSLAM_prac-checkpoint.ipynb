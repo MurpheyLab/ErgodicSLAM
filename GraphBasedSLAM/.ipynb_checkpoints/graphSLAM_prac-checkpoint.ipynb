{
 "cells": [
  {
   "cell_type": "code",
   "execution_count": 23,
   "metadata": {},
   "outputs": [],
   "source": [
    "import copy\n",
    "import math\n",
    "import itertools\n",
    "import numpy as np\n",
    "import matplotlib.pyplot as plt"
   ]
  },
  {
   "cell_type": "code",
   "execution_count": 24,
   "metadata": {},
   "outputs": [],
   "source": [
    "from graph_based_slam import calc_rotational_matrix, calc_jacobian, \\\n",
    "                             cal_observation_sigma, calc_input, \\\n",
    "                             observation, motion_model, Edge, pi_2_pi"
   ]
  },
  {
   "cell_type": "code",
   "execution_count": 25,
   "metadata": {},
   "outputs": [],
   "source": [
    "%matplotlib inline\n",
    "np.set_printoptions(precision=3, suppress=True)\n",
    "np.random.seed(0)"
   ]
  },
  {
   "cell_type": "code",
   "execution_count": 26,
   "metadata": {},
   "outputs": [
    {
     "data": {
      "image/png": "[encoded data removed]",
      "text/plain": [
       "<Figure size 432x288 with 1 Axes>"
      ]
     },
     "metadata": {
      "needs_background": "light"
     },
     "output_type": "display_data"
    }
   ],
   "source": [
    "\"\"\"\n",
    "Minimal example\n",
    "\"\"\"\n",
    "\n",
    "# initialization\n",
    "R = 0.2\n",
    "Q = 0.2\n",
    "N = 3\n",
    "graphics_radius = 0.1\n",
    "\n",
    "odom = np.empty((N,1))\n",
    "obs = np.empty((N,1))\n",
    "x_true = np.empty((N,1))\n",
    "\n",
    "landmark = 3\n",
    "\n",
    "# simulate readings of odometry and observations\n",
    "x_true[0], odom[0], obs[0] = 0.0, 0.0, 2.9\n",
    "x_true[1], odom[1], obs[1] = 1.0, 1.5, 2.0\n",
    "x_true[2], odom[2], obs[2] = 2.0, 2.4, 1.0\n",
    "\n",
    "hxDR = copy.deepcopy(odom)\n",
    "\n",
    "# visualization\n",
    "plt.plot(landmark, 0, '*k', markersize=30)\n",
    "for i in range(N):\n",
    "    plt.plot(odom[i], 0, '.', markersize=50, alpha=0.8, \\\n",
    "             color='steelblue')\n",
    "    plt.plot([odom[i], odom[i]+graphics_radius], [0,0], 'r')\n",
    "    plt.text(odom[i], 0.01, \"$X_{}$\".format(i), fontsize=12)\n",
    "    plt.plot(obs[i]+odom[i], 0, '.', markersize=20, color='brown')\n",
    "    plt.plot(x_true[i], 0, '.g', markersize=20)\n",
    "plt.show()"
   ]
  },
  {
   "cell_type": "code",
   "execution_count": 35,
   "metadata": {},
   "outputs": [],
   "source": [
    "# define a function to facilitate iteration\n",
    "def get_H_b(odom, obs):\n",
    "    measure_constraints = {}\n",
    "    omegas = {}\n",
    "    H = np.zeros((N,N))\n",
    "    b = np.zeros((N,1))\n",
    "    zid = list(itertools.combinations(range(N),2))\n",
    "    for (t1,t2) in zid:\n",
    "        # extract odometry and observation\n",
    "        x1 = odom[t1]\n",
    "        x2 = odom[t2]\n",
    "        z1 = obs[t1]\n",
    "        z2 = obs[t2]\n",
    "        \n",
    "        # add virtual measurement constraint\n",
    "        measure_constraints[(t1,t2)] = (x2-x1)-(z1-z2)\n",
    "        omegas[(t1,t2)] = 1. / (2.*Q)\n",
    "        \n",
    "        # populate system's information matrix and vector\n",
    "        H[t1,t1] += omegas[(t1,t2)]\n",
    "        H[t2,t2] += omegas[(t1,t2)]\n",
    "        H[t1,t2] -= omegas[(t1,t2)]\n",
    "        H[t2,t1] -= omegas[(t1,t2)]\n",
    "        \n",
    "        b[t1] += omegas[(t1,t2)] * measure_constraints[(t1,t2)]\n",
    "        b[t2] -= omegas[(t1,t2)] * measure_constraints[(t1,t2)]\n",
    "        \n",
    "    return H, b"
   ]
  },
  {
   "cell_type": "code",
   "execution_count": 41,
   "metadata": {},
   "outputs": [
    {
     "name": "stdout",
     "output_type": "stream",
     "text": [
      "------ iteration: 0 ------\n",
      "The detarminant of H:  0.0\n",
      "The determinant of H after anchoring constraint:  18.75\n",
      "------ iteration: 1 ------\n",
      "The detarminant of H:  0.0\n",
      "The determinant of H after anchoring constraint:  18.75\n",
      "------ iteration: 2 ------\n",
      "The detarminant of H:  0.0\n",
      "The determinant of H after anchoring constraint:  18.75\n",
      "------ iteration: 3 ------\n",
      "The detarminant of H:  0.0\n",
      "The determinant of H after anchoring constraint:  18.75\n",
      "------ iteration: 4 ------\n",
      "The detarminant of H:  0.0\n",
      "The determinant of H after anchoring constraint:  18.75\n",
      "------ iteration: 5 ------\n",
      "The detarminant of H:  0.0\n",
      "The determinant of H after anchoring constraint:  18.75\n",
      "------ iteration: 6 ------\n",
      "The detarminant of H:  0.0\n",
      "The determinant of H after anchoring constraint:  18.75\n",
      "------ iteration: 7 ------\n",
      "The detarminant of H:  0.0\n",
      "The determinant of H after anchoring constraint:  18.75\n",
      "------ iteration: 8 ------\n",
      "The detarminant of H:  0.0\n",
      "The determinant of H after anchoring constraint:  18.75\n",
      "------ iteration: 9 ------\n",
      "The detarminant of H:  0.0\n",
      "The determinant of H after anchoring constraint:  18.75\n",
      "\n",
      "Running graphSLAM ...\n",
      "Odometry values after optimzation:  [[0.  0.9 1.9]]\n"
     ]
    }
   ],
   "source": [
    "# optimize for better estimation\n",
    "for i in range(10):\n",
    "    # get H and b\n",
    "    print('------ iteration: {} ------'.format(i))\n",
    "    H, b = get_H_b(odom, obs)\n",
    "    print('The detarminant of H: ', np.linalg.det(H))\n",
    "    H[(0,0)] += 1\n",
    "    print('The determinant of H after anchoring constraint: ', \\\n",
    "          np.linalg.det(H))\n",
    "    \n",
    "    # recover the posterior over the path\n",
    "    dx = np.linalg.solve(H, b)\n",
    "    odom += dx\n",
    "\n",
    "print(\"\\nRunning graphSLAM ...\")    \n",
    "print(\"Odometry values after optimzation: \", odom.T)"
   ]
  },
  {
   "cell_type": "code",
   "execution_count": 38,
   "metadata": {},
   "outputs": [
    {
     "data": {
      "image/png": "[encoded data removed]",
      "text/plain": [
       "<Figure size 432x288 with 1 Axes>"
      ]
     },
     "metadata": {
      "needs_background": "light"
     },
     "output_type": "display_data"
    }
   ],
   "source": [
    "plt.plot(x_true, np.zeros(x_true.shape), '.', markersize=20, label='Ground truth')\n",
    "plt.plot(odom, np.zeros(x_true.shape), '.', markersize=20, label='Estimation')\n",
    "plt.plot(hxDR, np.zeros(x_true.shape), '.', markersize=20, label='Odom')\n",
    "plt.legend()\n",
    "plt.grid()\n",
    "plt.show()"
   ]
  },
  {
   "cell_type": "code",
   "execution_count": null,
   "metadata": {},
   "outputs": [],
   "source": [
    "\"\"\"\n",
    "Planer example\n",
    "\"\"\"\n"
   ]
  }
 ],
 "metadata": {
  "kernelspec": {
   "display_name": "Python 3",
   "language": "python",
   "name": "python3"
  },
  "language_info": {
   "codemirror_mode": {
    "name": "ipython",
    "version": 3
   },
   "file_extension": ".py",
   "mimetype": "text/x-python",
   "name": "python",
   "nbconvert_exporter": "python",
   "pygments_lexer": "ipython3",
   "version": "3.7.3"
  }
 },
 "nbformat": 4,
 "nbformat_minor": 4
}
